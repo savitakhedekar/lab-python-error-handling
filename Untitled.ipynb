{
 "cells": [
  {
   "cell_type": "code",
   "execution_count": 1,
   "id": "17087c2a-88ef-4eb0-8991-454212f556a6",
   "metadata": {},
   "outputs": [],
   "source": [
    "import pandas as pd"
   ]
  },
  {
   "cell_type": "code",
   "execution_count": 3,
   "id": "c9abc363-5316-4827-96fb-875f9cb51c4e",
   "metadata": {},
   "outputs": [
    {
     "ename": "SyntaxError",
     "evalue": "unterminated string literal (detected at line 1) (511116690.py, line 1)",
     "output_type": "error",
     "traceback": [
      "\u001b[1;36m  Cell \u001b[1;32mIn[3], line 1\u001b[1;36m\u001b[0m\n\u001b[1;33m    data = {\"name\":[\"john, \"peter\",\"lisa\"],\u001b[0m\n\u001b[1;37m                                        ^\u001b[0m\n\u001b[1;31mSyntaxError\u001b[0m\u001b[1;31m:\u001b[0m unterminated string literal (detected at line 1)\n"
     ]
    }
   ],
   "source": [
    "data = {\"name\":[\"john, \"peter\",\"lisa\"],\n",
    "        \"age\":[25,28,31],\n",
    "        \"salary\": [30000,45000,25000]}\n",
    "df =pd.DataFrame(data)\n",
    "print(df)"
   ]
  },
  {
   "cell_type": "code",
   "execution_count": 4,
   "id": "ebeb3445-af06-47fb-83cf-64610c0e99e3",
   "metadata": {},
   "outputs": [
    {
     "name": "stdin",
     "output_type": "stream",
     "text": [
      "Enter the number of customer orders:  0\n"
     ]
    },
    {
     "name": "stdout",
     "output_type": "stream",
     "text": [
      "Error: The number of orders must be a positive number.. Please enter a valid number of orders.\n"
     ]
    },
    {
     "name": "stdin",
     "output_type": "stream",
     "text": [
      "Enter the number of customer orders:  -1\n"
     ]
    },
    {
     "name": "stdout",
     "output_type": "stream",
     "text": [
      "Error: The number of orders must be a positive number.. Please enter a valid number of orders.\n"
     ]
    },
    {
     "name": "stdin",
     "output_type": "stream",
     "text": [
      "Enter the number of customer orders:  5\n",
      "Enter the name of product 1:  mug\n"
     ]
    },
    {
     "name": "stdout",
     "output_type": "stream",
     "text": [
      "Error: This product is not in the inventory.. Please enter a valid product name.\n"
     ]
    },
    {
     "name": "stdin",
     "output_type": "stream",
     "text": [
      "Enter the name of product 1:  apples\n"
     ]
    },
    {
     "name": "stdout",
     "output_type": "stream",
     "text": [
      "Error: This product is not in the inventory.. Please enter a valid product name.\n"
     ]
    },
    {
     "name": "stdin",
     "output_type": "stream",
     "text": [
      "Enter the name of product 1:  Apples\n",
      "Enter the name of product 2:  Bananas\n",
      "Enter the name of product 3:  oranges\n"
     ]
    },
    {
     "name": "stdout",
     "output_type": "stream",
     "text": [
      "Error: This product is not in the inventory.. Please enter a valid product name.\n"
     ]
    },
    {
     "name": "stdin",
     "output_type": "stream",
     "text": [
      "Enter the name of product 3:  Oranges\n",
      "Enter the name of product 4:  Apples\n",
      "Enter the name of product 5:  Bananas\n"
     ]
    },
    {
     "name": "stdout",
     "output_type": "stream",
     "text": [
      "Customer Orders: ['Apples', 'Bananas', 'Oranges', 'Apples', 'Bananas']\n"
     ]
    }
   ],
   "source": [
    "def get_customer_orders(inventory):\n",
    "    # Get the number of customer orders with error handling\n",
    "    while True:\n",
    "        try:\n",
    "            # Prompt the user to enter the number of customer orders\n",
    "            num_orders = int(input(\"Enter the number of customer orders: \"))\n",
    "            \n",
    "            # Check if the number of orders is a positive number\n",
    "            if num_orders <= 0:\n",
    "                raise ValueError(\"The number of orders must be a positive number.\")\n",
    "            break  # If input is valid, exit the loop\n",
    "        except ValueError as e:\n",
    "            # Handle errors and prompt user again\n",
    "            print(f\"Error: {e}. Please enter a valid number of orders.\")\n",
    "\n",
    "    orders = []\n",
    "    for i in range(num_orders):\n",
    "        while True:\n",
    "            try:\n",
    "                # Prompt the user to enter the product name\n",
    "                product_name = input(f\"Enter the name of product {i + 1}: \")\n",
    "                \n",
    "                # Check if the product name is in the inventory\n",
    "                if product_name not in inventory:\n",
    "                    raise ValueError(\"This product is not in the inventory.\")\n",
    "                \n",
    "                # Check if the product is in stock\n",
    "                if inventory[product_name] <= 0:\n",
    "                    raise ValueError(\"This product is out of stock.\")\n",
    "                \n",
    "                # If valid, add the product to orders and break the loop\n",
    "                orders.append(product_name)\n",
    "                break\n",
    "            except ValueError as e:\n",
    "                # Handle errors and prompt user again\n",
    "                print(f\"Error: {e}. Please enter a valid product name.\")\n",
    "    \n",
    "    return orders\n",
    "\n",
    "# Example inventory\n",
    "inventory = {\n",
    "    'Apples': 5,\n",
    "    'Bananas': 3,\n",
    "    'Oranges': 1\n",
    "}\n",
    "\n",
    "# Example usage\n",
    "customer_orders = get_customer_orders(inventory)\n",
    "print(\"Customer Orders:\", customer_orders)\n"
   ]
  },
  {
   "cell_type": "code",
   "execution_count": null,
   "id": "cbbcab10-cf5f-43df-a1cb-bccd6a77639a",
   "metadata": {},
   "outputs": [],
   "source": []
  }
 ],
 "metadata": {
  "kernelspec": {
   "display_name": "Python 3 (ipykernel)",
   "language": "python",
   "name": "python3"
  },
  "language_info": {
   "codemirror_mode": {
    "name": "ipython",
    "version": 3
   },
   "file_extension": ".py",
   "mimetype": "text/x-python",
   "name": "python",
   "nbconvert_exporter": "python",
   "pygments_lexer": "ipython3",
   "version": "3.11.7"
  }
 },
 "nbformat": 4,
 "nbformat_minor": 5
}
